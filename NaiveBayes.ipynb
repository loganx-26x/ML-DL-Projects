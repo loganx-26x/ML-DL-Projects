{
 "cells": [
  {
   "cell_type": "code",
   "execution_count": 1,
   "id": "ff1a0b7d",
   "metadata": {},
   "outputs": [],
   "source": [
    "import pandas as pd\n",
    "import numpy as np"
   ]
  },
  {
   "cell_type": "code",
   "execution_count": 2,
   "id": "108db792",
   "metadata": {},
   "outputs": [],
   "source": [
    "emails=pd.read_csv(\"emails.csv\")"
   ]
  },
  {
   "cell_type": "code",
   "execution_count": 3,
   "id": "df2e35fa",
   "metadata": {},
   "outputs": [
    {
     "data": {
      "text/html": [
       "<div>\n",
       "<style scoped>\n",
       "    .dataframe tbody tr th:only-of-type {\n",
       "        vertical-align: middle;\n",
       "    }\n",
       "\n",
       "    .dataframe tbody tr th {\n",
       "        vertical-align: top;\n",
       "    }\n",
       "\n",
       "    .dataframe thead th {\n",
       "        text-align: right;\n",
       "    }\n",
       "</style>\n",
       "<table border=\"1\" class=\"dataframe\">\n",
       "  <thead>\n",
       "    <tr style=\"text-align: right;\">\n",
       "      <th></th>\n",
       "      <th>text</th>\n",
       "      <th>spam</th>\n",
       "    </tr>\n",
       "  </thead>\n",
       "  <tbody>\n",
       "    <tr>\n",
       "      <th>0</th>\n",
       "      <td>Subject: naturally irresistible your corporate...</td>\n",
       "      <td>1</td>\n",
       "    </tr>\n",
       "    <tr>\n",
       "      <th>1</th>\n",
       "      <td>Subject: the stock trading gunslinger  fanny i...</td>\n",
       "      <td>1</td>\n",
       "    </tr>\n",
       "    <tr>\n",
       "      <th>2</th>\n",
       "      <td>Subject: unbelievable new homes made easy  im ...</td>\n",
       "      <td>1</td>\n",
       "    </tr>\n",
       "    <tr>\n",
       "      <th>3</th>\n",
       "      <td>Subject: 4 color printing special  request add...</td>\n",
       "      <td>1</td>\n",
       "    </tr>\n",
       "    <tr>\n",
       "      <th>4</th>\n",
       "      <td>Subject: do not have money , get software cds ...</td>\n",
       "      <td>1</td>\n",
       "    </tr>\n",
       "  </tbody>\n",
       "</table>\n",
       "</div>"
      ],
      "text/plain": [
       "                                                text  spam\n",
       "0  Subject: naturally irresistible your corporate...     1\n",
       "1  Subject: the stock trading gunslinger  fanny i...     1\n",
       "2  Subject: unbelievable new homes made easy  im ...     1\n",
       "3  Subject: 4 color printing special  request add...     1\n",
       "4  Subject: do not have money , get software cds ...     1"
      ]
     },
     "execution_count": 3,
     "metadata": {},
     "output_type": "execute_result"
    }
   ],
   "source": [
    "emails.head()"
   ]
  },
  {
   "cell_type": "code",
   "execution_count": 4,
   "id": "5f9a58ed",
   "metadata": {},
   "outputs": [],
   "source": [
    "def process_email(text):\n",
    "    text=text.lower()\n",
    "    return list(set(text.split()))"
   ]
  },
  {
   "cell_type": "code",
   "execution_count": 5,
   "id": "817799dc",
   "metadata": {},
   "outputs": [],
   "source": [
    "emails[\"words\"] = emails['text'].apply(process_email)"
   ]
  },
  {
   "cell_type": "code",
   "execution_count": 6,
   "id": "d89078e2",
   "metadata": {},
   "outputs": [
    {
     "data": {
      "text/html": [
       "<div>\n",
       "<style scoped>\n",
       "    .dataframe tbody tr th:only-of-type {\n",
       "        vertical-align: middle;\n",
       "    }\n",
       "\n",
       "    .dataframe tbody tr th {\n",
       "        vertical-align: top;\n",
       "    }\n",
       "\n",
       "    .dataframe thead th {\n",
       "        text-align: right;\n",
       "    }\n",
       "</style>\n",
       "<table border=\"1\" class=\"dataframe\">\n",
       "  <thead>\n",
       "    <tr style=\"text-align: right;\">\n",
       "      <th></th>\n",
       "      <th>text</th>\n",
       "      <th>spam</th>\n",
       "      <th>words</th>\n",
       "    </tr>\n",
       "  </thead>\n",
       "  <tbody>\n",
       "    <tr>\n",
       "      <th>0</th>\n",
       "      <td>Subject: naturally irresistible your corporate...</td>\n",
       "      <td>1</td>\n",
       "      <td>[specially, changes, creativeness, ;, letsyou,...</td>\n",
       "    </tr>\n",
       "    <tr>\n",
       "      <th>1</th>\n",
       "      <td>Subject: the stock trading gunslinger  fanny i...</td>\n",
       "      <td>1</td>\n",
       "      <td>[is, edt, the, chisel, chesapeake, penultimate...</td>\n",
       "    </tr>\n",
       "    <tr>\n",
       "      <th>2</th>\n",
       "      <td>Subject: unbelievable new homes made easy  im ...</td>\n",
       "      <td>1</td>\n",
       "      <td>[approved, is, of, opportunity, pittman, 72, w...</td>\n",
       "    </tr>\n",
       "    <tr>\n",
       "      <th>3</th>\n",
       "      <td>Subject: 4 color printing special  request add...</td>\n",
       "      <td>1</td>\n",
       "      <td>[click, goldengraphix, 91706, azusa, is, print...</td>\n",
       "    </tr>\n",
       "    <tr>\n",
       "      <th>4</th>\n",
       "      <td>Subject: do not have money , get software cds ...</td>\n",
       "      <td>1</td>\n",
       "      <td>[do, is, marriage, !, compatibility, great, th...</td>\n",
       "    </tr>\n",
       "  </tbody>\n",
       "</table>\n",
       "</div>"
      ],
      "text/plain": [
       "                                                text  spam  \\\n",
       "0  Subject: naturally irresistible your corporate...     1   \n",
       "1  Subject: the stock trading gunslinger  fanny i...     1   \n",
       "2  Subject: unbelievable new homes made easy  im ...     1   \n",
       "3  Subject: 4 color printing special  request add...     1   \n",
       "4  Subject: do not have money , get software cds ...     1   \n",
       "\n",
       "                                               words  \n",
       "0  [specially, changes, creativeness, ;, letsyou,...  \n",
       "1  [is, edt, the, chisel, chesapeake, penultimate...  \n",
       "2  [approved, is, of, opportunity, pittman, 72, w...  \n",
       "3  [click, goldengraphix, 91706, azusa, is, print...  \n",
       "4  [do, is, marriage, !, compatibility, great, th...  "
      ]
     },
     "execution_count": 6,
     "metadata": {},
     "output_type": "execute_result"
    }
   ],
   "source": [
    "emails.head()"
   ]
  },
  {
   "cell_type": "code",
   "execution_count": 7,
   "id": "626840a0",
   "metadata": {},
   "outputs": [
    {
     "data": {
      "text/plain": [
       "0.2388268156424581"
      ]
     },
     "execution_count": 7,
     "metadata": {},
     "output_type": "execute_result"
    }
   ],
   "source": [
    "sum(emails[\"spam\"])/len(emails)"
   ]
  },
  {
   "cell_type": "code",
   "execution_count": 8,
   "id": "0a27a667",
   "metadata": {},
   "outputs": [],
   "source": [
    "model={}\n",
    "\n",
    "for index, email in emails.iterrows():\n",
    "    for word in email[\"words\"]:\n",
    "        if word not in model:\n",
    "            model[word]={\"spam\":1, \"ham\":1}\n",
    "        if word in model:\n",
    "            if email['spam']:\n",
    "                model[word]['spam']+=1\n",
    "            else:\n",
    "                model[word]['ham']+=1"
   ]
  },
  {
   "cell_type": "code",
   "execution_count": 36,
   "id": "a366cbe7",
   "metadata": {},
   "outputs": [],
   "source": [
    "def predict_naive_bayes(email):\n",
    "    total=len(emails)\n",
    "    num_spam=sum(emails[\"spam\"])\n",
    "    num_ham=total-num_spam\n",
    "    email=email.lower()\n",
    "    words = set(email.split())\n",
    "    spams=[1.0]\n",
    "    hams=[1.0]\n",
    "    for word in words:\n",
    "        if word in model:\n",
    "            spams.append(model[word][\"spam\"]/num_spam*total)\n",
    "            hams.append(model[word][\"ham\"]/num_ham*total)\n",
    "    prod_spams=np.long(np.prod(spams)*num_spam)\n",
    "    prod_hams=np.long(np.prod(hams)*num_ham)\n",
    "    return prod_spams/(prod_spams+prod_hams)"
   ]
  },
  {
   "cell_type": "code",
   "execution_count": 46,
   "id": "2b8af5ed",
   "metadata": {},
   "outputs": [
    {
     "name": "stdout",
     "output_type": "stream",
     "text": [
      "0.12554358867164464\n",
      "6.964603508395961e-05\n"
     ]
    }
   ],
   "source": [
    "print(predict_naive_bayes(\"Hi mom how are you\"))\n",
    "print(predict_naive_bayes(\"meet me at the lobby of the hotel at nine am\"))"
   ]
  },
  {
   "cell_type": "code",
   "execution_count": 45,
   "id": "326d009d",
   "metadata": {},
   "outputs": [
    {
     "name": "stdout",
     "output_type": "stream",
     "text": [
      "0.999973472265966\n",
      "0.2388268156424581\n"
     ]
    }
   ],
   "source": [
    "print(predict_naive_bayes(\"buy cheap lottery easy money now\"))\n",
    "print(predict_naive_bayes(\"asdfgh\"))"
   ]
  },
  {
   "cell_type": "code",
   "execution_count": null,
   "id": "641876db",
   "metadata": {},
   "outputs": [],
   "source": []
  }
 ],
 "metadata": {
  "kernelspec": {
   "display_name": "Python 3",
   "language": "python",
   "name": "python3"
  },
  "language_info": {
   "codemirror_mode": {
    "name": "ipython",
    "version": 3
   },
   "file_extension": ".py",
   "mimetype": "text/x-python",
   "name": "python",
   "nbconvert_exporter": "python",
   "pygments_lexer": "ipython3",
   "version": "3.6.9"
  }
 },
 "nbformat": 4,
 "nbformat_minor": 5
}
