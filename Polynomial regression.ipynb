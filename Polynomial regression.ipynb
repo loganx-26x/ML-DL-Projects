{
 "cells": [
  {
   "cell_type": "markdown",
   "id": "0f6bb2b2",
   "metadata": {},
   "source": [
    "## Chapter 4: Testing and regularization with Turi Create"
   ]
  },
  {
   "cell_type": "code",
   "execution_count": 2,
   "id": "7b064933",
   "metadata": {},
   "outputs": [],
   "source": [
    "import pandas as pd\n",
    "import numpy as np\n",
    "import random\n",
    "import matplotlib.pyplot as plt\n",
    "random.seed(0)"
   ]
  },
  {
   "cell_type": "code",
   "execution_count": 53,
   "id": "781c2afd",
   "metadata": {},
   "outputs": [
    {
     "data": {
      "image/png": "[encoded data removed]",
      "text/plain": [
       "<Figure size 432x288 with 1 Axes>"
      ]
     },
     "metadata": {
      "needs_background": "light"
     },
     "output_type": "display_data"
    }
   ],
   "source": [
    "# Our original polynomial is -x^2+x+15\n",
    "coefs = [15,1,-1]\n",
    "\n",
    "def polynomial(coefs, x):\n",
    "    n = len(coefs)\n",
    "    return sum([coefs[i]*x**i for i in range(n)])\n",
    "\n",
    "def draw_polynomial(coefs):\n",
    "    n=len(coefs)\n",
    "    x = np.linspace(-5,5,1000)\n",
    "    plt.ylim(-20,20)\n",
    "    plt.plot(x,sum([coefs[i]*x**i  for i in range(n)]), linestyle=\"-\", color=\"black\")\n",
    "\n",
    "draw_polynomial(coefs)"
   ]
  },
  {
   "cell_type": "code",
   "execution_count": 57,
   "id": "21f625ac",
   "metadata": {},
   "outputs": [],
   "source": [
    "X=[]\n",
    "Y=[]\n",
    "for i in range(40):\n",
    "    x=random.uniform(-5,5)\n",
    "    y=polynomial(coefs,x) + random.gauss(0,2)\n",
    "    X.append(x)\n",
    "    Y.append(y)"
   ]
  },
  {
   "cell_type": "code",
   "execution_count": 5,
   "id": "d54bc55a",
   "metadata": {},
   "outputs": [
    {
     "data": {
      "text/plain": [
       "<matplotlib.collections.PathCollection at 0x7f8a893ff940>"
      ]
     },
     "execution_count": 5,
     "metadata": {},
     "output_type": "execute_result"
    },
    {
     "data": {
      "image/png": "[encoded data removed]",
      "text/plain": [
       "<Figure size 432x288 with 1 Axes>"
      ]
     },
     "metadata": {
      "needs_background": "light"
     },
     "output_type": "display_data"
    }
   ],
   "source": [
    "plt.scatter(X,Y)"
   ]
  },
  {
   "cell_type": "markdown",
   "id": "6fe5caf1",
   "metadata": {},
   "source": [
    "## Training a polynomial regression model"
   ]
  },
  {
   "cell_type": "code",
   "execution_count": 6,
   "id": "14568343",
   "metadata": {},
   "outputs": [],
   "source": [
    "import turicreate as tc"
   ]
  },
  {
   "cell_type": "code",
   "execution_count": 7,
   "id": "3d380a96",
   "metadata": {},
   "outputs": [
    {
     "data": {
      "text/html": [
       "<div style=\"max-height:1000px;max-width:1500px;overflow:auto;\"><table frame=\"box\" rules=\"cols\">\n",
       "    <tr>\n",
       "        <th style=\"padding-left: 1em; padding-right: 1em; text-align: center\">x</th>\n",
       "        <th style=\"padding-left: 1em; padding-right: 1em; text-align: center\">y</th>\n",
       "    </tr>\n",
       "    <tr>\n",
       "        <td style=\"padding-left: 1em; padding-right: 1em; text-align: center; vertical-align: top\">3.4442185152504816</td>\n",
       "        <td style=\"padding-left: 1em; padding-right: 1em; text-align: center; vertical-align: top\">6.685961311021467</td>\n",
       "    </tr>\n",
       "    <tr>\n",
       "        <td style=\"padding-left: 1em; padding-right: 1em; text-align: center; vertical-align: top\">-2.4108324970703663</td>\n",
       "        <td style=\"padding-left: 1em; padding-right: 1em; text-align: center; vertical-align: top\">4.690236225597948</td>\n",
       "    </tr>\n",
       "    <tr>\n",
       "        <td style=\"padding-left: 1em; padding-right: 1em; text-align: center; vertical-align: top\">0.11274721368608542</td>\n",
       "        <td style=\"padding-left: 1em; padding-right: 1em; text-align: center; vertical-align: top\">12.205789026637378</td>\n",
       "    </tr>\n",
       "    <tr>\n",
       "        <td style=\"padding-left: 1em; padding-right: 1em; text-align: center; vertical-align: top\">-1.9668727392107255</td>\n",
       "        <td style=\"padding-left: 1em; padding-right: 1em; text-align: center; vertical-align: top\">11.133217991032268</td>\n",
       "    </tr>\n",
       "    <tr>\n",
       "        <td style=\"padding-left: 1em; padding-right: 1em; text-align: center; vertical-align: top\">-0.23403045847644144</td>\n",
       "        <td style=\"padding-left: 1em; padding-right: 1em; text-align: center; vertical-align: top\">10.927272159051856</td>\n",
       "    </tr>\n",
       "    <tr>\n",
       "        <td style=\"padding-left: 1em; padding-right: 1em; text-align: center; vertical-align: top\">0.046868558173902564</td>\n",
       "        <td style=\"padding-left: 1em; padding-right: 1em; text-align: center; vertical-align: top\">12.8584762866286</td>\n",
       "    </tr>\n",
       "    <tr>\n",
       "        <td style=\"padding-left: 1em; padding-right: 1em; text-align: center; vertical-align: top\">-2.1816215560029617</td>\n",
       "        <td style=\"padding-left: 1em; padding-right: 1em; text-align: center; vertical-align: top\">8.16012255928749</td>\n",
       "    </tr>\n",
       "    <tr>\n",
       "        <td style=\"padding-left: 1em; padding-right: 1em; text-align: center; vertical-align: top\">-2.4949365863755943</td>\n",
       "        <td style=\"padding-left: 1em; padding-right: 1em; text-align: center; vertical-align: top\">3.5061587527226514</td>\n",
       "    </tr>\n",
       "    <tr>\n",
       "        <td style=\"padding-left: 1em; padding-right: 1em; text-align: center; vertical-align: top\">4.097462559682402</td>\n",
       "        <td style=\"padding-left: 1em; padding-right: 1em; text-align: center; vertical-align: top\">5.933186396721837</td>\n",
       "    </tr>\n",
       "    <tr>\n",
       "        <td style=\"padding-left: 1em; padding-right: 1em; text-align: center; vertical-align: top\">4.021659504395828</td>\n",
       "        <td style=\"padding-left: 1em; padding-right: 1em; text-align: center; vertical-align: top\">2.454299054753137</td>\n",
       "    </tr>\n",
       "</table>\n",
       "[40 rows x 2 columns]<br/>Note: Only the head of the SFrame is printed.<br/>You can use print_rows(num_rows=m, num_columns=n) to print more rows and columns.\n",
       "</div>"
      ],
      "text/plain": [
       "Columns:\n",
       "\tx\tfloat\n",
       "\ty\tfloat\n",
       "\n",
       "Rows: 40\n",
       "\n",
       "Data:\n",
       "+----------------------+--------------------+\n",
       "|          x           |         y          |\n",
       "+----------------------+--------------------+\n",
       "|  3.4442185152504816  | 6.685961311021467  |\n",
       "| -2.4108324970703663  | 4.690236225597948  |\n",
       "| 0.11274721368608542  | 12.205789026637378 |\n",
       "| -1.9668727392107255  | 11.133217991032268 |\n",
       "| -0.23403045847644144 | 10.927272159051856 |\n",
       "| 0.046868558173902564 |  12.8584762866286  |\n",
       "| -2.1816215560029617  |  8.16012255928749  |\n",
       "| -2.4949365863755943  | 3.5061587527226514 |\n",
       "|  4.097462559682402   | 5.933186396721837  |\n",
       "|  4.021659504395828   | 2.454299054753137  |\n",
       "+----------------------+--------------------+\n",
       "[40 rows x 2 columns]\n",
       "Note: Only the head of the SFrame is printed.\n",
       "You can use print_rows(num_rows=m, num_columns=n) to print more rows and columns."
      ]
     },
     "execution_count": 7,
     "metadata": {},
     "output_type": "execute_result"
    }
   ],
   "source": [
    "data = tc.SFrame({'x': X, 'y':Y})\n",
    "data"
   ]
  },
  {
   "cell_type": "code",
   "execution_count": 8,
   "id": "37e26990",
   "metadata": {},
   "outputs": [],
   "source": [
    "for i in range(2,200):\n",
    "    string=\"x^\"+str(i)\n",
    "    data[string]=data[\"x\"].apply(lambda x:x**i)"
   ]
  },
  {
   "cell_type": "markdown",
   "id": "14c0f136",
   "metadata": {},
   "source": [
    "## Splitting data into training and testing"
   ]
  },
  {
   "cell_type": "code",
   "execution_count": 9,
   "id": "304fd75a",
   "metadata": {},
   "outputs": [],
   "source": [
    "train, test = data.random_split(.8, seed=0)"
   ]
  },
  {
   "cell_type": "code",
   "execution_count": 10,
   "id": "2e30656c",
   "metadata": {},
   "outputs": [],
   "source": [
    "def display_results(model):\n",
    "    coefs = model.coefficients\n",
    "    print(\"Training error (rmse):\", model.evaluate(train)['rmse'])\n",
    "    print(\"Testing error (rmse):\", model.evaluate(test)['rmse'])\n",
    "    plt.scatter(train['x'], train['y'], marker=\"o\")\n",
    "    plt.scatter(test[\"x\"], test[\"y\"], marker='^')\n",
    "    draw_polynomial(coefs['value'])\n",
    "    plt.show()\n",
    "    print(\"Polynomial coefficients\")\n",
    "    print(coefs[\"name\", \"value\"])"
   ]
  },
  {
   "cell_type": "markdown",
   "id": "0e759e4a",
   "metadata": {},
   "source": [
    "## Training a polynomial regression model with no regularization"
   ]
  },
  {
   "cell_type": "code",
   "execution_count": 11,
   "id": "ad2ce4ec",
   "metadata": {},
   "outputs": [],
   "source": [
    "model_no_reg = tc.linear_regression.create(\n",
    "    train, target=\"y\", l1_penalty=0.0, l2_penalty=0.0, verbose=False, validation_set=None)\n",
    "model_L1_reg = tc.linear_regression.create(\n",
    "    train, target=\"y\", l1_penalty=0.1, l2_penalty=0.0, verbose=False, validation_set=None)\n",
    "model_L2_reg = tc.linear_regression.create(\n",
    "    train, target=\"y\", l1_penalty=0.0, l2_penalty=0.1, verbose=False, validation_set=None)"
   ]
  },
  {
   "cell_type": "code",
   "execution_count": 12,
   "id": "25c85226",
   "metadata": {},
   "outputs": [
    {
     "name": "stdout",
     "output_type": "stream",
     "text": [
      "Training error (rmse): 1.5213829303807986\n",
      "Testing error (rmse): 699.0325176744669\n"
     ]
    },
    {
     "data": {
      "image/png": "[encoded data removed]",
      "text/plain": [
       "<Figure size 432x288 with 1 Axes>"
      ]
     },
     "metadata": {
      "needs_background": "light"
     },
     "output_type": "display_data"
    },
    {
     "name": "stdout",
     "output_type": "stream",
     "text": [
      "Polynomial coefficients\n",
      "+-------------+---------------------+\n",
      "|     name    |        value        |\n",
      "+-------------+---------------------+\n",
      "| (intercept) |  8.409132643442717  |\n",
      "|      x      |  15.877898056607998 |\n",
      "|     x^2     |  108.8735358163443  |\n",
      "|     x^3     | -212.88678661687192 |\n",
      "|     x^4     |  -97.13225053973962 |\n",
      "|     x^5     |  258.47096686275455 |\n",
      "|     x^6     |  38.335889248828835 |\n",
      "|     x^7     | -128.78387647931117 |\n",
      "|     x^8     |  -9.214500432847792 |\n",
      "|     x^9     |  32.840417055946915 |\n",
      "+-------------+---------------------+\n",
      "[200 rows x 2 columns]\n",
      "Note: Only the head of the SFrame is printed.\n",
      "You can use print_rows(num_rows=m, num_columns=n) to print more rows and columns.\n"
     ]
    }
   ],
   "source": [
    "display_results(model_no_reg)"
   ]
  },
  {
   "cell_type": "code",
   "execution_count": 13,
   "id": "e648f7d0",
   "metadata": {},
   "outputs": [
    {
     "name": "stdout",
     "output_type": "stream",
     "text": [
      "Training error (rmse): 9.473874911154354\n",
      "Testing error (rmse): 10.077027617091746\n"
     ]
    },
    {
     "data": {
      "image/png": "[encoded data removed]",
      "text/plain": [
       "<Figure size 432x288 with 1 Axes>"
      ]
     },
     "metadata": {
      "needs_background": "light"
     },
     "output_type": "display_data"
    },
    {
     "name": "stdout",
     "output_type": "stream",
     "text": [
      "Polynomial coefficients\n",
      "+-------------+-------------------------+\n",
      "|     name    |          value          |\n",
      "+-------------+-------------------------+\n",
      "| (intercept) |    0.5655798426406278   |\n",
      "|      x      |    0.0694081636504658   |\n",
      "|     x^2     |  0.0075528368273853445  |\n",
      "|     x^3     |   0.003947237269580271  |\n",
      "|     x^4     | -0.00021279451431743294 |\n",
      "|     x^5     |  0.00019048017792383447 |\n",
      "|     x^6     |  -1.798514046251732e-05 |\n",
      "|     x^7     |   7.88081493506395e-06  |\n",
      "|     x^8     |  -8.895545466589715e-07 |\n",
      "|     x^9     |  3.020651102542037e-07  |\n",
      "+-------------+-------------------------+\n",
      "[200 rows x 2 columns]\n",
      "Note: Only the head of the SFrame is printed.\n",
      "You can use print_rows(num_rows=m, num_columns=n) to print more rows and columns.\n"
     ]
    }
   ],
   "source": [
    "display_results(model_L1_reg)"
   ]
  },
  {
   "cell_type": "code",
   "execution_count": 14,
   "id": "08f89113",
   "metadata": {},
   "outputs": [
    {
     "name": "stdout",
     "output_type": "stream",
     "text": [
      "Training error (rmse): 1.714673638689723\n",
      "Testing error (rmse): 3.413615797210576\n"
     ]
    },
    {
     "data": {
      "image/png": "[encoded data removed]",
      "text/plain": [
       "<Figure size 432x288 with 1 Axes>"
      ]
     },
     "metadata": {
      "needs_background": "light"
     },
     "output_type": "display_data"
    },
    {
     "name": "stdout",
     "output_type": "stream",
     "text": [
      "Polynomial coefficients\n",
      "+-------------+-------------------------+\n",
      "|     name    |          value          |\n",
      "+-------------+-------------------------+\n",
      "| (intercept) |    13.242877632262703   |\n",
      "|      x      |    0.8742327276128922   |\n",
      "|     x^2     |    -0.519442544052024   |\n",
      "|     x^3     |   0.006007308646500496  |\n",
      "|     x^4     |  -0.021611699669646676  |\n",
      "|     x^5     |  0.0011472313840807627  |\n",
      "|     x^6     | -0.00039568239266103136 |\n",
      "|     x^7     |  3.537559873068439e-05  |\n",
      "|     x^8     |  -1.065260727829058e-07 |\n",
      "|     x^9     |  5.825198471939245e-07  |\n",
      "+-------------+-------------------------+\n",
      "[200 rows x 2 columns]\n",
      "Note: Only the head of the SFrame is printed.\n",
      "You can use print_rows(num_rows=m, num_columns=n) to print more rows and columns.\n"
     ]
    }
   ],
   "source": [
    "display_results(model_L2_reg)"
   ]
  },
  {
   "cell_type": "markdown",
   "id": "a79114ec",
   "metadata": {},
   "source": [
    "## Viewing the predictions in the testing set"
   ]
  },
  {
   "cell_type": "code",
   "execution_count": 15,
   "id": "02563615",
   "metadata": {},
   "outputs": [],
   "source": [
    "predictions = test[\"x\", \"y\"]\n",
    "predictions[\"No reg\"] = model_no_reg.predict(test)\n",
    "predictions[\"L1 reg\"] = model_L1_reg.predict(test)\n",
    "predictions[\"L2 reg\"] = model_L2_reg.predict(test)"
   ]
  },
  {
   "cell_type": "code",
   "execution_count": 16,
   "id": "0666b0cf",
   "metadata": {},
   "outputs": [
    {
     "name": "stdout",
     "output_type": "stream",
     "text": [
      "+---------------------+--------------------+\n",
      "|          x          |         y          |\n",
      "+---------------------+--------------------+\n",
      "| -0.2785728454728664 | 16.36505651355184  |\n",
      "|   3.6530992777164   |  4.83366913200435  |\n",
      "| -0.5203042856442961 | 13.47860807272069  |\n",
      "|   3.14466863291336  | 3.2664703661537313 |\n",
      "| -1.1509885402733957 | 13.436894195835206 |\n",
      "|  3.424602231401824  | 3.5269925176080537 |\n",
      "+---------------------+--------------------+\n",
      "[6 rows x 2 columns]\n",
      "\n"
     ]
    }
   ],
   "source": [
    "predictions[\"x\",\"y\"].print_rows(num_rows=50)"
   ]
  },
  {
   "cell_type": "code",
   "execution_count": 17,
   "id": "24343604",
   "metadata": {},
   "outputs": [
    {
     "name": "stdout",
     "output_type": "stream",
     "text": [
      "+---------------------+--------------------+---------------------+\n",
      "|          x          |         y          |        No reg       |\n",
      "+---------------------+--------------------+---------------------+\n",
      "| -0.2785728454728664 | 16.36505651355184  |  16.052528555808884 |\n",
      "|   3.6530992777164   |  4.83366913200435  |  1499.3940900560701 |\n",
      "| -0.5203042856442961 | 13.47860807272069  |  44.58735982592923  |\n",
      "|   3.14466863291336  | 3.2664703661537313 |  -819.6674023489759 |\n",
      "| -1.1509885402733957 | 13.436894195835206 |  79.74336216300665  |\n",
      "|  3.424602231401824  | 3.5269925176080537 | -121.30631289217854 |\n",
      "+---------------------+--------------------+---------------------+\n",
      "+--------------------+--------------------+\n",
      "|       L1 reg       |       L2 reg       |\n",
      "+--------------------+--------------------+\n",
      "| 0.5467437924583818 | 12.958767791803519 |\n",
      "| 1.230320283464282  | 6.450393351997895  |\n",
      "| 0.5309318651483861 | 12.644906915280373 |\n",
      "| 1.0254405801644775 |  9.08207753278438  |\n",
      "| 0.4888537292170774 | 11.498079646733478 |\n",
      "| 1.1270992482748206 | 7.701281752205773  |\n",
      "+--------------------+--------------------+\n",
      "[6 rows x 5 columns]\n",
      "\n"
     ]
    }
   ],
   "source": [
    "predictions.print_rows(num_rows=10, num_columns=6)"
   ]
  },
  {
   "cell_type": "code",
   "execution_count": 18,
   "id": "702a3bec",
   "metadata": {},
   "outputs": [
    {
     "data": {
      "text/plain": [
       "dtype: float\n",
       "Rows: 6\n",
       "[12.958767791803519, 6.450393351997895, 12.644906915280373, 9.08207753278438, 11.498079646733478, 7.701281752205773]"
      ]
     },
     "execution_count": 18,
     "metadata": {},
     "output_type": "execute_result"
    }
   ],
   "source": [
    "model_L2_reg.predict(test)"
   ]
  },
  {
   "cell_type": "code",
   "execution_count": 19,
   "id": "71416000",
   "metadata": {},
   "outputs": [
    {
     "data": {
      "text/html": [
       "<div style=\"max-height:1000px;max-width:1500px;overflow:auto;\"><table frame=\"box\" rules=\"cols\">\n",
       "    <tr>\n",
       "        <th style=\"padding-left: 1em; padding-right: 1em; text-align: center\">name</th>\n",
       "        <th style=\"padding-left: 1em; padding-right: 1em; text-align: center\">index</th>\n",
       "        <th style=\"padding-left: 1em; padding-right: 1em; text-align: center\">value</th>\n",
       "        <th style=\"padding-left: 1em; padding-right: 1em; text-align: center\">stderr</th>\n",
       "    </tr>\n",
       "    <tr>\n",
       "        <td style=\"padding-left: 1em; padding-right: 1em; text-align: center; vertical-align: top\">(intercept)</td>\n",
       "        <td style=\"padding-left: 1em; padding-right: 1em; text-align: center; vertical-align: top\">None</td>\n",
       "        <td style=\"padding-left: 1em; padding-right: 1em; text-align: center; vertical-align: top\">0.5655798426406278</td>\n",
       "        <td style=\"padding-left: 1em; padding-right: 1em; text-align: center; vertical-align: top\">None</td>\n",
       "    </tr>\n",
       "    <tr>\n",
       "        <td style=\"padding-left: 1em; padding-right: 1em; text-align: center; vertical-align: top\">x</td>\n",
       "        <td style=\"padding-left: 1em; padding-right: 1em; text-align: center; vertical-align: top\">None</td>\n",
       "        <td style=\"padding-left: 1em; padding-right: 1em; text-align: center; vertical-align: top\">0.0694081636504658</td>\n",
       "        <td style=\"padding-left: 1em; padding-right: 1em; text-align: center; vertical-align: top\">None</td>\n",
       "    </tr>\n",
       "    <tr>\n",
       "        <td style=\"padding-left: 1em; padding-right: 1em; text-align: center; vertical-align: top\">x^2</td>\n",
       "        <td style=\"padding-left: 1em; padding-right: 1em; text-align: center; vertical-align: top\">None</td>\n",
       "        <td style=\"padding-left: 1em; padding-right: 1em; text-align: center; vertical-align: top\">0.0075528368273853445</td>\n",
       "        <td style=\"padding-left: 1em; padding-right: 1em; text-align: center; vertical-align: top\">None</td>\n",
       "    </tr>\n",
       "    <tr>\n",
       "        <td style=\"padding-left: 1em; padding-right: 1em; text-align: center; vertical-align: top\">x^3</td>\n",
       "        <td style=\"padding-left: 1em; padding-right: 1em; text-align: center; vertical-align: top\">None</td>\n",
       "        <td style=\"padding-left: 1em; padding-right: 1em; text-align: center; vertical-align: top\">0.003947237269580271</td>\n",
       "        <td style=\"padding-left: 1em; padding-right: 1em; text-align: center; vertical-align: top\">None</td>\n",
       "    </tr>\n",
       "    <tr>\n",
       "        <td style=\"padding-left: 1em; padding-right: 1em; text-align: center; vertical-align: top\">x^4</td>\n",
       "        <td style=\"padding-left: 1em; padding-right: 1em; text-align: center; vertical-align: top\">None</td>\n",
       "        <td style=\"padding-left: 1em; padding-right: 1em; text-align: center; vertical-align: top\">-0.00021279451431743294</td>\n",
       "        <td style=\"padding-left: 1em; padding-right: 1em; text-align: center; vertical-align: top\">None</td>\n",
       "    </tr>\n",
       "    <tr>\n",
       "        <td style=\"padding-left: 1em; padding-right: 1em; text-align: center; vertical-align: top\">x^5</td>\n",
       "        <td style=\"padding-left: 1em; padding-right: 1em; text-align: center; vertical-align: top\">None</td>\n",
       "        <td style=\"padding-left: 1em; padding-right: 1em; text-align: center; vertical-align: top\">0.00019048017792383447</td>\n",
       "        <td style=\"padding-left: 1em; padding-right: 1em; text-align: center; vertical-align: top\">None</td>\n",
       "    </tr>\n",
       "    <tr>\n",
       "        <td style=\"padding-left: 1em; padding-right: 1em; text-align: center; vertical-align: top\">x^6</td>\n",
       "        <td style=\"padding-left: 1em; padding-right: 1em; text-align: center; vertical-align: top\">None</td>\n",
       "        <td style=\"padding-left: 1em; padding-right: 1em; text-align: center; vertical-align: top\">-1.798514046251732e-05</td>\n",
       "        <td style=\"padding-left: 1em; padding-right: 1em; text-align: center; vertical-align: top\">None</td>\n",
       "    </tr>\n",
       "    <tr>\n",
       "        <td style=\"padding-left: 1em; padding-right: 1em; text-align: center; vertical-align: top\">x^7</td>\n",
       "        <td style=\"padding-left: 1em; padding-right: 1em; text-align: center; vertical-align: top\">None</td>\n",
       "        <td style=\"padding-left: 1em; padding-right: 1em; text-align: center; vertical-align: top\">7.88081493506395e-06</td>\n",
       "        <td style=\"padding-left: 1em; padding-right: 1em; text-align: center; vertical-align: top\">None</td>\n",
       "    </tr>\n",
       "    <tr>\n",
       "        <td style=\"padding-left: 1em; padding-right: 1em; text-align: center; vertical-align: top\">x^8</td>\n",
       "        <td style=\"padding-left: 1em; padding-right: 1em; text-align: center; vertical-align: top\">None</td>\n",
       "        <td style=\"padding-left: 1em; padding-right: 1em; text-align: center; vertical-align: top\">-8.895545466589715e-07</td>\n",
       "        <td style=\"padding-left: 1em; padding-right: 1em; text-align: center; vertical-align: top\">None</td>\n",
       "    </tr>\n",
       "    <tr>\n",
       "        <td style=\"padding-left: 1em; padding-right: 1em; text-align: center; vertical-align: top\">x^9</td>\n",
       "        <td style=\"padding-left: 1em; padding-right: 1em; text-align: center; vertical-align: top\">None</td>\n",
       "        <td style=\"padding-left: 1em; padding-right: 1em; text-align: center; vertical-align: top\">3.020651102542037e-07</td>\n",
       "        <td style=\"padding-left: 1em; padding-right: 1em; text-align: center; vertical-align: top\">None</td>\n",
       "    </tr>\n",
       "</table>\n",
       "[200 rows x 4 columns]<br/>Note: Only the head of the SFrame is printed.<br/>You can use print_rows(num_rows=m, num_columns=n) to print more rows and columns.\n",
       "</div>"
      ],
      "text/plain": [
       "Columns:\n",
       "\tname\tstr\n",
       "\tindex\tstr\n",
       "\tvalue\tfloat\n",
       "\tstderr\tfloat\n",
       "\n",
       "Rows: 200\n",
       "\n",
       "Data:\n",
       "+-------------+-------+-------------------------+--------+\n",
       "|     name    | index |          value          | stderr |\n",
       "+-------------+-------+-------------------------+--------+\n",
       "| (intercept) |  None |    0.5655798426406278   |  None  |\n",
       "|      x      |  None |    0.0694081636504658   |  None  |\n",
       "|     x^2     |  None |  0.0075528368273853445  |  None  |\n",
       "|     x^3     |  None |   0.003947237269580271  |  None  |\n",
       "|     x^4     |  None | -0.00021279451431743294 |  None  |\n",
       "|     x^5     |  None |  0.00019048017792383447 |  None  |\n",
       "|     x^6     |  None |  -1.798514046251732e-05 |  None  |\n",
       "|     x^7     |  None |   7.88081493506395e-06  |  None  |\n",
       "|     x^8     |  None |  -8.895545466589715e-07 |  None  |\n",
       "|     x^9     |  None |  3.020651102542037e-07  |  None  |\n",
       "+-------------+-------+-------------------------+--------+\n",
       "[200 rows x 4 columns]\n",
       "Note: Only the head of the SFrame is printed.\n",
       "You can use print_rows(num_rows=m, num_columns=n) to print more rows and columns."
      ]
     },
     "execution_count": 19,
     "metadata": {},
     "output_type": "execute_result"
    }
   ],
   "source": [
    "model_L1_reg.coefficients"
   ]
  },
  {
   "cell_type": "code",
   "execution_count": 20,
   "id": "300ad4af",
   "metadata": {},
   "outputs": [],
   "source": [
    "# Exercise 4.2"
   ]
  },
  {
   "cell_type": "code",
   "execution_count": 21,
   "id": "d0a976f1",
   "metadata": {},
   "outputs": [],
   "source": [
    "# sum means i'm doing the sum here which is asked in Exercise 4.2\n",
    "\n",
    "coeff = [2,-5,4]\n",
    "X_sum = [1, 2, 3, 4, 5]\n",
    "Y_sum = [2, 2.5, 6, 14.5, 34]\n",
    "\n",
    "data_sum = tc.SFrame({\"x\":X_sum, \"y\":Y_sum})\n"
   ]
  },
  {
   "cell_type": "code",
   "execution_count": 22,
   "id": "6f78faf2",
   "metadata": {},
   "outputs": [],
   "source": [
    "for i in range(2, 200):\n",
    "    data_sum['x']\n",
    "    data_sum[f\"x^{i}\"] = [x**i for x in data_sum[\"x\"]]"
   ]
  },
  {
   "cell_type": "code",
   "execution_count": 23,
   "id": "51db21f7",
   "metadata": {
    "scrolled": true
   },
   "outputs": [],
   "source": [
    "train_sum, test_sum = data_sum.random_split(.7, seed=0)"
   ]
  },
  {
   "cell_type": "code",
   "execution_count": 60,
   "id": "88caea32",
   "metadata": {},
   "outputs": [],
   "source": [
    "model_L1_reg_sum = tc.linear_regression.create(train_sum, target=\"y\", l1_penalty=0.1, l2_penalty=0, verbose=False, validation_set=None)"
   ]
  },
  {
   "cell_type": "code",
   "execution_count": 61,
   "id": "9f58fb82",
   "metadata": {},
   "outputs": [
    {
     "data": {
      "text/html": [
       "<div style=\"max-height:1000px;max-width:1500px;overflow:auto;\"><table frame=\"box\" rules=\"cols\">\n",
       "    <tr>\n",
       "        <th style=\"padding-left: 1em; padding-right: 1em; text-align: center\">name</th>\n",
       "        <th style=\"padding-left: 1em; padding-right: 1em; text-align: center\">index</th>\n",
       "        <th style=\"padding-left: 1em; padding-right: 1em; text-align: center\">value</th>\n",
       "        <th style=\"padding-left: 1em; padding-right: 1em; text-align: center\">stderr</th>\n",
       "    </tr>\n",
       "    <tr>\n",
       "        <td style=\"padding-left: 1em; padding-right: 1em; text-align: center; vertical-align: top\">(intercept)</td>\n",
       "        <td style=\"padding-left: 1em; padding-right: 1em; text-align: center; vertical-align: top\">None</td>\n",
       "        <td style=\"padding-left: 1em; padding-right: 1em; text-align: center; vertical-align: top\">0.49780684538893255</td>\n",
       "        <td style=\"padding-left: 1em; padding-right: 1em; text-align: center; vertical-align: top\">None</td>\n",
       "    </tr>\n",
       "    <tr>\n",
       "        <td style=\"padding-left: 1em; padding-right: 1em; text-align: center; vertical-align: top\">x</td>\n",
       "        <td style=\"padding-left: 1em; padding-right: 1em; text-align: center; vertical-align: top\">None</td>\n",
       "        <td style=\"padding-left: 1em; padding-right: 1em; text-align: center; vertical-align: top\">0.1451284849445531</td>\n",
       "        <td style=\"padding-left: 1em; padding-right: 1em; text-align: center; vertical-align: top\">None</td>\n",
       "    </tr>\n",
       "    <tr>\n",
       "        <td style=\"padding-left: 1em; padding-right: 1em; text-align: center; vertical-align: top\">x^2</td>\n",
       "        <td style=\"padding-left: 1em; padding-right: 1em; text-align: center; vertical-align: top\">None</td>\n",
       "        <td style=\"padding-left: 1em; padding-right: 1em; text-align: center; vertical-align: top\">0.027589367472290353</td>\n",
       "        <td style=\"padding-left: 1em; padding-right: 1em; text-align: center; vertical-align: top\">None</td>\n",
       "    </tr>\n",
       "    <tr>\n",
       "        <td style=\"padding-left: 1em; padding-right: 1em; text-align: center; vertical-align: top\">x^3</td>\n",
       "        <td style=\"padding-left: 1em; padding-right: 1em; text-align: center; vertical-align: top\">None</td>\n",
       "        <td style=\"padding-left: 1em; padding-right: 1em; text-align: center; vertical-align: top\">0.004979401653388636</td>\n",
       "        <td style=\"padding-left: 1em; padding-right: 1em; text-align: center; vertical-align: top\">None</td>\n",
       "    </tr>\n",
       "    <tr>\n",
       "        <td style=\"padding-left: 1em; padding-right: 1em; text-align: center; vertical-align: top\">x^4</td>\n",
       "        <td style=\"padding-left: 1em; padding-right: 1em; text-align: center; vertical-align: top\">None</td>\n",
       "        <td style=\"padding-left: 1em; padding-right: 1em; text-align: center; vertical-align: top\">0.0008864258065800635</td>\n",
       "        <td style=\"padding-left: 1em; padding-right: 1em; text-align: center; vertical-align: top\">None</td>\n",
       "    </tr>\n",
       "    <tr>\n",
       "        <td style=\"padding-left: 1em; padding-right: 1em; text-align: center; vertical-align: top\">x^5</td>\n",
       "        <td style=\"padding-left: 1em; padding-right: 1em; text-align: center; vertical-align: top\">None</td>\n",
       "        <td style=\"padding-left: 1em; padding-right: 1em; text-align: center; vertical-align: top\">0.00015656572166988892</td>\n",
       "        <td style=\"padding-left: 1em; padding-right: 1em; text-align: center; vertical-align: top\">None</td>\n",
       "    </tr>\n",
       "    <tr>\n",
       "        <td style=\"padding-left: 1em; padding-right: 1em; text-align: center; vertical-align: top\">x^6</td>\n",
       "        <td style=\"padding-left: 1em; padding-right: 1em; text-align: center; vertical-align: top\">None</td>\n",
       "        <td style=\"padding-left: 1em; padding-right: 1em; text-align: center; vertical-align: top\">2.756785041774894e-05</td>\n",
       "        <td style=\"padding-left: 1em; padding-right: 1em; text-align: center; vertical-align: top\">None</td>\n",
       "    </tr>\n",
       "    <tr>\n",
       "        <td style=\"padding-left: 1em; padding-right: 1em; text-align: center; vertical-align: top\">x^7</td>\n",
       "        <td style=\"padding-left: 1em; padding-right: 1em; text-align: center; vertical-align: top\">None</td>\n",
       "        <td style=\"padding-left: 1em; padding-right: 1em; text-align: center; vertical-align: top\">4.861546010527881e-06</td>\n",
       "        <td style=\"padding-left: 1em; padding-right: 1em; text-align: center; vertical-align: top\">None</td>\n",
       "    </tr>\n",
       "    <tr>\n",
       "        <td style=\"padding-left: 1em; padding-right: 1em; text-align: center; vertical-align: top\">x^8</td>\n",
       "        <td style=\"padding-left: 1em; padding-right: 1em; text-align: center; vertical-align: top\">None</td>\n",
       "        <td style=\"padding-left: 1em; padding-right: 1em; text-align: center; vertical-align: top\">8.619210744072419e-07</td>\n",
       "        <td style=\"padding-left: 1em; padding-right: 1em; text-align: center; vertical-align: top\">None</td>\n",
       "    </tr>\n",
       "    <tr>\n",
       "        <td style=\"padding-left: 1em; padding-right: 1em; text-align: center; vertical-align: top\">x^9</td>\n",
       "        <td style=\"padding-left: 1em; padding-right: 1em; text-align: center; vertical-align: top\">None</td>\n",
       "        <td style=\"padding-left: 1em; padding-right: 1em; text-align: center; vertical-align: top\">1.5405429790218597e-07</td>\n",
       "        <td style=\"padding-left: 1em; padding-right: 1em; text-align: center; vertical-align: top\">None</td>\n",
       "    </tr>\n",
       "</table>\n",
       "[200 rows x 4 columns]<br/>Note: Only the head of the SFrame is printed.<br/>You can use print_rows(num_rows=m, num_columns=n) to print more rows and columns.\n",
       "</div>"
      ],
      "text/plain": [
       "Columns:\n",
       "\tname\tstr\n",
       "\tindex\tstr\n",
       "\tvalue\tfloat\n",
       "\tstderr\tfloat\n",
       "\n",
       "Rows: 200\n",
       "\n",
       "Data:\n",
       "+-------------+-------+------------------------+--------+\n",
       "|     name    | index |         value          | stderr |\n",
       "+-------------+-------+------------------------+--------+\n",
       "| (intercept) |  None |  0.49780684538893255   |  None  |\n",
       "|      x      |  None |   0.1451284849445531   |  None  |\n",
       "|     x^2     |  None |  0.027589367472290353  |  None  |\n",
       "|     x^3     |  None |  0.004979401653388636  |  None  |\n",
       "|     x^4     |  None | 0.0008864258065800635  |  None  |\n",
       "|     x^5     |  None | 0.00015656572166988892 |  None  |\n",
       "|     x^6     |  None | 2.756785041774894e-05  |  None  |\n",
       "|     x^7     |  None | 4.861546010527881e-06  |  None  |\n",
       "|     x^8     |  None | 8.619210744072419e-07  |  None  |\n",
       "|     x^9     |  None | 1.5405429790218597e-07 |  None  |\n",
       "+-------------+-------+------------------------+--------+\n",
       "[200 rows x 4 columns]\n",
       "Note: Only the head of the SFrame is printed.\n",
       "You can use print_rows(num_rows=m, num_columns=n) to print more rows and columns."
      ]
     },
     "execution_count": 61,
     "metadata": {},
     "output_type": "execute_result"
    }
   ],
   "source": [
    "model_L1_reg_sum.coefficients"
   ]
  },
  {
   "cell_type": "code",
   "execution_count": null,
   "id": "4cdc4d9c",
   "metadata": {},
   "outputs": [],
   "source": []
  }
 ],
 "metadata": {
  "kernelspec": {
   "display_name": "Python 3",
   "language": "python",
   "name": "python3"
  },
  "language_info": {
   "codemirror_mode": {
    "name": "ipython",
    "version": 3
   },
   "file_extension": ".py",
   "mimetype": "text/x-python",
   "name": "python",
   "nbconvert_exporter": "python",
   "pygments_lexer": "ipython3",
   "version": "3.6.9"
  }
 },
 "nbformat": 4,
 "nbformat_minor": 5
}
